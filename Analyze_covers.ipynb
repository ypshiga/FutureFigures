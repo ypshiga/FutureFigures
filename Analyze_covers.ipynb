{
 "cells": [
  {
   "cell_type": "code",
   "execution_count": null,
   "metadata": {},
   "outputs": [],
   "source": [
    "# import the necessary packages\n",
    "from __future__ import print_function\n",
    "import numpy as np\n",
    "import json\n",
    "import cv2\n",
    "from IPython.display import Image, HTML, display\n",
    "from glob import glob\n",
    "from sklearn.cluster import KMeans\n",
    "import matplotlib.pyplot as plt"
   ]
  },
  {
   "cell_type": "code",
   "execution_count": 2,
   "metadata": {},
   "outputs": [],
   "source": [
    "def filter_by_decade(decade, data):\n",
    "    # initialize the list of filtered rows\n",
    "    filtered = []\n",
    " \n",
    "    # loop over the rows in the data list\n",
    "    for row in data:\n",
    "        # grab the publication date of the magazine\n",
    "        pub = int(row[\"pubDate\"].split(\"-\")[0])\n",
    " \n",
    "        # if the publication date falls within the current decade,\n",
    "        # then update the filtered list of data\n",
    "        if pub >= decade and pub < decade + 10:\n",
    "            filtered.append(row)\n",
    " \n",
    "    # return the filtered list of data\n",
    "    print(\"Number of covers in decade: {}\".format(len(filtered)))\n",
    "\n",
    "    return filtered"
   ]
  },
  {
   "cell_type": "code",
   "execution_count": 5,
   "metadata": {},
   "outputs": [],
   "source": [
    "# load the JSON data file\n",
    "data = json.loads(open(\"C:/Users/Yoichi/timecoverspider/timecoverspider/spiders/output.json\").read())"
   ]
  },
  {
   "cell_type": "code",
   "execution_count": 7,
   "metadata": {},
   "outputs": [
    {
     "name": "stdout",
     "output_type": "stream",
     "text": [
      "[INFO] processing years: 1920-1929\n",
      "Number of covers in decade: 170\n",
      "[INFO] processing years: 1930-1939\n",
      "Number of covers in decade: 271\n",
      "[INFO] processing years: 1940-1949\n",
      "Number of covers in decade: 267\n",
      "[INFO] processing years: 1950-1959\n",
      "Number of covers in decade: 289\n",
      "[INFO] processing years: 1960-1969\n",
      "Number of covers in decade: 316\n",
      "[INFO] processing years: 1970-1979\n",
      "Number of covers in decade: 304\n",
      "[INFO] processing years: 1980-1989\n",
      "Number of covers in decade: 297\n",
      "[INFO] processing years: 1990-1999\n",
      "Number of covers in decade: 278\n",
      "[INFO] processing years: 2000-2009\n",
      "Number of covers in decade: 354\n",
      "[INFO] processing years: 2010-2019\n",
      "Number of covers in decade: 216\n"
     ]
    }
   ],
   "source": [
    "# create average image per decade\n",
    "# loop over each individual decade Time magazine has been published\n",
    "for decade in np.arange(1920, 2020, 10):\n",
    "    # initialize the magazine covers list\n",
    "    print(\"[INFO] processing years: {}-{}\".format(decade, decade + 9))\n",
    "    covers = []\n",
    "    list_of_avg = []\n",
    "    # loop over the magazine issues belonging to the current decade\n",
    "    for row in filter_by_decade(decade, data):\n",
    "        # load the image\n",
    "        cover = cv2.imread(\"output/{}\".format(row[\"files\"][0][\"path\"]))\n",
    "     \n",
    "        # if the image is None, then there was an issue loading it\n",
    "        # (this happens for ~3 images in the dataset, likely due to\n",
    "        # a download problem during the scraping process)\n",
    "        if cover is not None:\n",
    "            # resize the magazine cover, flatten it into a single\n",
    "            # list, and update the list of covers\n",
    "            cover = cv2.resize(cover, (400, 527)).flatten()\n",
    "            covers.append(cover)\n",
    " \n",
    "    # compute the average image of the covers then write the average\n",
    "    # image to disk\n",
    "    avg = np.average(covers, axis=0).reshape((527, 400, 3)).astype(\"uint8\")\n",
    "    p = \"{}.png\".format(decade)\n",
    "    cv2.imwrite(p, avg)  \n",
    "    list_of_avg.append(p)"
   ]
  },
  {
   "cell_type": "code",
   "execution_count": 30,
   "metadata": {},
   "outputs": [
    {
     "data": {
      "text/html": [
       "<img style='width: 120px; margin: 0px; float: left; border: 1px solid black;' src='1920.png' /><img style='width: 120px; margin: 0px; float: left; border: 1px solid black;' src='1930.png' /><img style='width: 120px; margin: 0px; float: left; border: 1px solid black;' src='1940.png' /><img style='width: 120px; margin: 0px; float: left; border: 1px solid black;' src='1950.png' /><img style='width: 120px; margin: 0px; float: left; border: 1px solid black;' src='1960.png' /><img style='width: 120px; margin: 0px; float: left; border: 1px solid black;' src='1970.png' /><img style='width: 120px; margin: 0px; float: left; border: 1px solid black;' src='1980.png' /><img style='width: 120px; margin: 0px; float: left; border: 1px solid black;' src='1990.png' /><img style='width: 120px; margin: 0px; float: left; border: 1px solid black;' src='2000.png' /><img style='width: 120px; margin: 0px; float: left; border: 1px solid black;' src='2010.png' />"
      ],
      "text/plain": [
       "<IPython.core.display.HTML object>"
      ]
     },
     "metadata": {},
     "output_type": "display_data"
    }
   ],
   "source": [
    "# Show all averaged images\n",
    "imagesList=''.join( [\"<img style='width: 120px; margin: 0px; float: left; border: 1px solid black;' src='%s' />\" % str(s) \n",
    "                 for s in sorted(glob('*.png')) ])\n",
    "display(HTML(imagesList))"
   ]
  },
  {
   "cell_type": "code",
   "execution_count": 23,
   "metadata": {},
   "outputs": [],
   "source": [
    "# Loop through all images store in large list for clustering also store decade indentifier\n",
    "covers = []\n",
    "decade_labels = []\n",
    "# loop over all\n",
    "for row in data:\n",
    "    # load the image\n",
    "    cover = cv2.imread(\"output/{}\".format(row[\"files\"][0][\"path\"]))\n",
    "     \n",
    "    # if the image is None, then there was an issue loading it\n",
    "    # (this happens for ~3 images in the dataset, likely due to\n",
    "    # a download problem during the scraping process)\n",
    "    if cover is not None:\n",
    "            # resize the magazine cover (smaller for kmeans), flatten it into a single\n",
    "            # list, and update the list of decade labels\n",
    "            cover = cv2.resize(cover, (64,64)).flatten()\n",
    "            covers.append(cover)\n",
    "            label_date = row['pubDate']\n",
    "            decade_labels.append(label_date)"
   ]
  },
  {
   "cell_type": "code",
   "execution_count": 24,
   "metadata": {},
   "outputs": [],
   "source": [
    "# cluster using kmeans\n",
    "# first convert to np array\n",
    "data_covers = np.array(covers)\n",
    "# perform kmeans assuming 10 groups based on decades\n",
    "kmeans = KMeans(n_clusters=10,random_state=0)\n",
    "cluster = kmeans.fit_predict(data_covers)\n",
    "# reshape centroids into image format\n",
    "centers = kmeans.cluster_centers_.reshape((10,64,64, 3))\n"
   ]
  },
  {
   "cell_type": "code",
   "execution_count": 29,
   "metadata": {},
   "outputs": [],
   "source": [
    "# save out \"centroids\"\n",
    "for x in xrange(0,10):\n",
    "    test=centers[x]\n",
    "    p = \"output/test{}.png\".format(x)\n",
    "    cv2.imwrite(p, test)  "
   ]
  },
  {
   "cell_type": "code",
   "execution_count": 31,
   "metadata": {},
   "outputs": [
    {
     "data": {
      "text/html": [
       "<img style='width: 120px; margin: 0px; float: left; border: 1px solid black;' src='output\\test0.png' /><img style='width: 120px; margin: 0px; float: left; border: 1px solid black;' src='output\\test1.png' /><img style='width: 120px; margin: 0px; float: left; border: 1px solid black;' src='output\\test2.png' /><img style='width: 120px; margin: 0px; float: left; border: 1px solid black;' src='output\\test3.png' /><img style='width: 120px; margin: 0px; float: left; border: 1px solid black;' src='output\\test4.png' /><img style='width: 120px; margin: 0px; float: left; border: 1px solid black;' src='output\\test5.png' /><img style='width: 120px; margin: 0px; float: left; border: 1px solid black;' src='output\\test6.png' /><img style='width: 120px; margin: 0px; float: left; border: 1px solid black;' src='output\\test7.png' /><img style='width: 120px; margin: 0px; float: left; border: 1px solid black;' src='output\\test8.png' /><img style='width: 120px; margin: 0px; float: left; border: 1px solid black;' src='output\\test9.png' />"
      ],
      "text/plain": [
       "<IPython.core.display.HTML object>"
      ]
     },
     "metadata": {},
     "output_type": "display_data"
    }
   ],
   "source": [
    "# plot centroids\n",
    "imagesList=''.join( [\"<img style='width: 120px; margin: 0px; float: left; border: 1px solid black;' src='%s' />\" % str(s) \n",
    "                 for s in sorted(glob('output/*.png')) ])\n",
    "display(HTML(imagesList))"
   ]
  },
  {
   "cell_type": "code",
   "execution_count": 32,
   "metadata": {},
   "outputs": [
    {
     "data": {
      "text/html": [
       "<img style='width: 120px; margin: 0px; float: left; border: 1px solid black;' src='1920.png' /><img style='width: 120px; margin: 0px; float: left; border: 1px solid black;' src='1930.png' /><img style='width: 120px; margin: 0px; float: left; border: 1px solid black;' src='1940.png' /><img style='width: 120px; margin: 0px; float: left; border: 1px solid black;' src='1950.png' /><img style='width: 120px; margin: 0px; float: left; border: 1px solid black;' src='1960.png' /><img style='width: 120px; margin: 0px; float: left; border: 1px solid black;' src='1970.png' /><img style='width: 120px; margin: 0px; float: left; border: 1px solid black;' src='1980.png' /><img style='width: 120px; margin: 0px; float: left; border: 1px solid black;' src='1990.png' /><img style='width: 120px; margin: 0px; float: left; border: 1px solid black;' src='2000.png' /><img style='width: 120px; margin: 0px; float: left; border: 1px solid black;' src='2010.png' />"
      ],
      "text/plain": [
       "<IPython.core.display.HTML object>"
      ]
     },
     "metadata": {},
     "output_type": "display_data"
    }
   ],
   "source": [
    "# Show original averaged images by decade\n",
    "imagesList=''.join( [\"<img style='width: 120px; margin: 0px; float: left; border: 1px solid black;' src='%s' />\" % str(s) \n",
    "                 for s in sorted(glob('*.png')) ])\n",
    "display(HTML(imagesList))"
   ]
  },
  {
   "cell_type": "code",
   "execution_count": 100,
   "metadata": {},
   "outputs": [],
   "source": [
    "# Convert year from decade label to np array for plotting\n",
    "year_labels = [item[:4] for item in decade_labels]\n",
    "year_data=np.array(year_labels)\n",
    "year_data=np.asfarray(year_data,float)"
   ]
  },
  {
   "cell_type": "code",
   "execution_count": 99,
   "metadata": {},
   "outputs": [
    {
     "data": {
      "image/png": "[encoded data removed]",
      "text/plain": [
       "<Figure size 432x288 with 1 Axes>"
      ]
     },
     "metadata": {
      "needs_background": "light"
     },
     "output_type": "display_data"
    }
   ],
   "source": [
    "# Plot year of cover versus classification group\n",
    "plt.plot(year_data,kmeans.labels_,'.')\n",
    "plt.show()\n"
   ]
  },
  {
   "cell_type": "code",
   "execution_count": null,
   "metadata": {},
   "outputs": [],
   "source": []
  }
 ],
 "metadata": {
  "kernelspec": {
   "display_name": "Python 2",
   "language": "python",
   "name": "python2"
  },
  "language_info": {
   "codemirror_mode": {
    "name": "ipython",
    "version": 2
   },
   "file_extension": ".py",
   "mimetype": "text/x-python",
   "name": "python",
   "nbconvert_exporter": "python",
   "pygments_lexer": "ipython2",
   "version": "2.7.15"
  }
 },
 "nbformat": 4,
 "nbformat_minor": 2
}
